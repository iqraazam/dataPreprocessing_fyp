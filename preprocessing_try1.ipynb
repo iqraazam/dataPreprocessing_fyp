{
  "nbformat": 4,
  "nbformat_minor": 0,
  "metadata": {
    "colab": {
      "provenance": []
    },
    "kernelspec": {
      "name": "python3",
      "display_name": "Python 3"
    },
    "language_info": {
      "name": "python"
    }
  },
  "cells": [
    {
      "cell_type": "code",
      "execution_count": 1,
      "metadata": {
        "colab": {
          "base_uri": "https://localhost:8080/"
        },
        "id": "81GmIpGwdchb",
        "outputId": "0ca02c3c-c463-4524-b9b1-7807c933e03f"
      },
      "outputs": [
        {
          "output_type": "stream",
          "name": "stdout",
          "text": [
            "Cloning into 'fyp'...\n",
            "remote: Enumerating objects: 2737, done.\u001b[K\n",
            "remote: Total 2737 (delta 0), reused 0 (delta 0), pack-reused 2737 (from 1)\u001b[K\n",
            "Receiving objects: 100% (2737/2737), 107.49 MiB | 12.78 MiB/s, done.\n",
            "Resolving deltas: 100% (2/2), done.\n",
            "Updating files: 100% (3826/3826), done.\n"
          ]
        }
      ],
      "source": [
        "!git clone https://github.com/afeefjunaid/fyp.git  # Replace with your GitHub URL\n",
        "\n",
        "# Step 2: Define the path to the dataset folder within the cloned repository\n",
        "dataset_path = '/content/fyp/skinType'"
      ]
    },
    {
      "cell_type": "code",
      "source": [
        "import os\n",
        "import numpy as np\n",
        "from PIL import Image\n",
        "from sklearn.model_selection import train_test_split\n",
        "\n",
        "# Function to load and preprocess images\n",
        "def preprocess_images(dataset_path, img_size=(16, 16)):\n",
        "    X = []  # List to hold image data\n",
        "    y = []  # List to hold labels\n",
        "    class_names = []  # List to hold class names (dry, oily, normal)\n",
        "\n",
        "    # Loop over each folder (class)\n",
        "    for idx, class_folder in enumerate(os.listdir(dataset_path)):\n",
        "        class_path = os.path.join(dataset_path, class_folder)\n",
        "        class_names.append(class_folder)\n",
        "\n",
        "        # Loop over each image in the class folder\n",
        "        for img_name in os.listdir(class_path):\n",
        "            img_path = os.path.join(class_path, img_name)\n",
        "\n",
        "            # Open and resize image\n",
        "            with Image.open(img_path) as img:\n",
        "                img = img.resize(img_size)  # Resize image to 16x16 pixels\n",
        "                img_array = np.array(img)  # Convert to numpy array\n",
        "\n",
        "                # Normalize pixel values to [0, 1] range (optional)\n",
        "                img_array = img_array / 255.0\n",
        "\n",
        "                # Append data and label\n",
        "                X.append(img_array)\n",
        "                y.append(idx)  # Class label as index\n",
        "\n",
        "    # Convert lists to numpy arrays\n",
        "    X = np.array(X)\n",
        "    y = np.array(y)\n",
        "\n",
        "    return X, y, class_names\n",
        "\n",
        "# Function to split the dataset into training and test sets\n",
        "def create_dataset(X, y, test_size=0.2):\n",
        "    X_train, X_test, y_train, y_test = train_test_split(X, y, test_size=test_size, random_state=42)\n",
        "    return X_train, X_test, y_train, y_test\n",
        "\n",
        "# Main function to run the tool\n",
        "def process_skin_type_dataset(dataset_path):\n",
        "    print(f\"Processing dataset from: {dataset_path}\")\n",
        "    X, y, class_names = preprocess_images(dataset_path)\n",
        "\n",
        "    print(f\"Total images: {len(X)}\")\n",
        "    print(f\"Classes: {class_names}\")\n",
        "\n",
        "    X_train, X_test, y_train, y_test = create_dataset(X, y)\n",
        "\n",
        "    # Print summary\n",
        "    print(f\"Training set size: {X_train.shape[0]}\")\n",
        "    print(f\"Test set size: {X_test.shape[0]}\")\n",
        "\n",
        "    # Save preprocessed dataset for future use (optional)\n",
        "    np.save(\"X_train.npy\", X_train)\n",
        "    np.save(\"X_test.npy\", X_test)\n",
        "    np.save(\"y_train.npy\", y_train)\n",
        "    np.save(\"y_test.npy\", y_test)\n",
        "\n",
        "    return X_train, X_test, y_train, y_test, class_names\n",
        "\n",
        "# Example usage:\n",
        "dataset_path = '/content/fyp/skinType'  # Update this to your dataset path\n",
        "X_train, X_test, y_train, y_test, class_names = process_skin_type_dataset(dataset_path)\n"
      ],
      "metadata": {
        "colab": {
          "base_uri": "https://localhost:8080/"
        },
        "id": "H_ycUMWUeSRL",
        "outputId": "3685e383-dab8-4ff9-c94a-d5da6ab443a2"
      },
      "execution_count": 2,
      "outputs": [
        {
          "output_type": "stream",
          "name": "stdout",
          "text": [
            "Processing dataset from: /content/fyp/skinType\n",
            "Total images: 3824\n",
            "Classes: ['dry', 'normal', 'oily']\n",
            "Training set size: 3059\n",
            "Test set size: 765\n"
          ]
        }
      ]
    },
    {
      "cell_type": "code",
      "source": [
        "import os\n",
        "from PIL import Image\n",
        "\n",
        "# Function to create a directory if it doesn't exist\n",
        "def create_directory(directory):\n",
        "    if not os.path.exists(directory):\n",
        "        os.makedirs(directory)\n",
        "\n",
        "# Function to load, preprocess, and save images\n",
        "def preprocess_and_save_images(dataset_path, output_path, img_size=(16, 16)):\n",
        "    class_names = []  # List to hold class names (dry, oily, normal)\n",
        "\n",
        "    # Loop over each folder (class)\n",
        "    for idx, class_folder in enumerate(os.listdir(dataset_path)):\n",
        "        class_path = os.path.join(dataset_path, class_folder)\n",
        "\n",
        "        # Only process directories (skip files if any)\n",
        "        if not os.path.isdir(class_path):\n",
        "            continue\n",
        "\n",
        "        class_names.append(class_folder)\n",
        "\n",
        "        # Create output directories for each class\n",
        "        output_class_dir = os.path.join(output_path, class_folder)\n",
        "        create_directory(output_class_dir)\n",
        "\n",
        "        # Loop over each image in the class folder\n",
        "        for img_name in os.listdir(class_path):\n",
        "            img_path = os.path.join(class_path, img_name)\n",
        "\n",
        "            # Open and resize image\n",
        "            try:\n",
        "                with Image.open(img_path) as img:\n",
        "                    img = img.resize(img_size)  # Resize image to 16x16 pixels\n",
        "\n",
        "                    # Save the resized image to the output directory\n",
        "                    output_img_path = os.path.join(output_class_dir, img_name)\n",
        "                    img.save(output_img_path, \"JPEG\")\n",
        "\n",
        "            except Exception as e:\n",
        "                print(f\"Error processing image {img_name}: {e}\")\n",
        "\n",
        "    print(f\"Processed images saved to: {output_path}\")\n",
        "    return class_names\n",
        "\n",
        "# Main function to run the tool\n",
        "def process_skin_type_dataset(dataset_path, output_path):\n",
        "    print(f\"Processing dataset from: {dataset_path}\")\n",
        "    class_names = preprocess_and_save_images(dataset_path, output_path)\n",
        "\n",
        "    print(f\"Classes processed: {class_names}\")\n",
        "\n",
        "# Example usage:\n",
        "dataset_path = '/content/fyp/skinType'  # Replace with the path to your dataset\n",
        "output_path = '/content/fyp/skinType/UpdateImages'  # Replace with the path to save resized images\n",
        "process_skin_type_dataset(dataset_path, output_path)\n"
      ],
      "metadata": {
        "colab": {
          "base_uri": "https://localhost:8080/"
        },
        "id": "Y2c7MQ6Vg26o",
        "outputId": "70f824ad-7bce-44bc-a882-1a215a2d6cdd"
      },
      "execution_count": 5,
      "outputs": [
        {
          "output_type": "stream",
          "name": "stdout",
          "text": [
            "Processing dataset from: /content/fyp/skinType\n",
            "Error processing image .ipynb_checkpoints: [Errno 21] Is a directory: '/content/fyp/skinType/skinType/.ipynb_checkpoints'\n",
            "Error processing image dry: [Errno 21] Is a directory: '/content/fyp/skinType/skinType/dry'\n",
            "Error processing image normal: [Errno 21] Is a directory: '/content/fyp/skinType/skinType/normal'\n",
            "Error processing image oily: [Errno 21] Is a directory: '/content/fyp/skinType/skinType/oily'\n",
            "Processed images saved to: /content/fyp/skinType/UpdateImages\n",
            "Classes processed: ['.ipynb_checkpoints', 'skinType', 'dry', 'normal', 'oily']\n"
          ]
        }
      ]
    }
  ]
}